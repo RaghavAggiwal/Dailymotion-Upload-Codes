{
 "cells": [
  {
   "cell_type": "code",
   "execution_count": 1,
   "metadata": {},
   "outputs": [],
   "source": [
    "import os\n",
    "import dailymotion\n",
    "import pandas as pd\n",
    "from PIL import Image\n",
    "\n",
    "import cloudinary\n",
    "from cloudinary.uploader import upload\n",
    "from cloudinary.utils import cloudinary_url\n",
    "\n",
    "\n",
    "d = dailymotion.Dailymotion()"
   ]
  },
  {
   "cell_type": "code",
   "execution_count": 20,
   "metadata": {},
   "outputs": [],
   "source": [
    "#hindi credentials\n",
    "_API_KEY_HINDI = \"api_key\"\n",
    "_API_SECRET_HINDI = \"api_secret\"\n",
    "_USERNAME_HINDI = \"x2bgrnj\"\n",
    "_PASSWORD_HINDI = \"pwd\"\n",
    "\n",
    "d.set_grant_type(\n",
    "            \"password\",\n",
    "            api_key=_API_KEY_HINDI,\n",
    "            api_secret=_API_SECRET_HINDI,\n",
    "            scope=[\"manage_videos\"],\n",
    "            info={\"username\": _USERNAME_HINDI, \"password\": _PASSWORD_HINDI},\n",
    "        )"
   ]
  },
  {
   "cell_type": "code",
   "execution_count": 21,
   "metadata": {},
   "outputs": [],
   "source": [
    "cloudinary.config( \n",
    "  cloud_name = \"dqibdvo0f\", \n",
    "  api_key = \"key\", \n",
    "  api_secret = \"secret\" \n",
    ")\n",
    "\n",
    "DEFAULT_TAG = \"python_sample_basic\"\n",
    "\n",
    "\n",
    "def dump_response(response):\n",
    "    print(\"Upload response:\")\n",
    "    for key in sorted(response.keys()):\n",
    "        print(\"  %s: %s\" % (key, response[key]))"
   ]
  },
  {
   "cell_type": "code",
   "execution_count": 25,
   "metadata": {},
   "outputs": [
    {
     "data": {
      "text/plain": [
       "id           object\n",
       "thumbnail    object\n",
       "dtype: object"
      ]
     },
     "execution_count": 25,
     "metadata": {},
     "output_type": "execute_result"
    }
   ],
   "source": [
    "input_file = r\"D:\\My Folder\\Dailymotion\\dm_thumbnail_update.xlsx\"\n",
    "file = pd.read_excel(input_file)\n",
    "file.astype('str').dtypes"
   ]
  },
  {
   "cell_type": "code",
   "execution_count": 26,
   "metadata": {},
   "outputs": [
    {
     "data": {
      "text/html": [
       "<div>\n",
       "<style scoped>\n",
       "    .dataframe tbody tr th:only-of-type {\n",
       "        vertical-align: middle;\n",
       "    }\n",
       "\n",
       "    .dataframe tbody tr th {\n",
       "        vertical-align: top;\n",
       "    }\n",
       "\n",
       "    .dataframe thead th {\n",
       "        text-align: right;\n",
       "    }\n",
       "</style>\n",
       "<table border=\"1\" class=\"dataframe\">\n",
       "  <thead>\n",
       "    <tr style=\"text-align: right;\">\n",
       "      <th></th>\n",
       "      <th>id</th>\n",
       "      <th>thumbnail</th>\n",
       "    </tr>\n",
       "  </thead>\n",
       "  <tbody>\n",
       "    <tr>\n",
       "      <td>0</td>\n",
       "      <td>x7n8nul</td>\n",
       "      <td>रिश्तों में किसका कितना महत्व _ आचार्य प्रशांत...</td>\n",
       "    </tr>\n",
       "    <tr>\n",
       "      <td>1</td>\n",
       "      <td>x7n8nt0</td>\n",
       "      <td>किसको मान रहे हो अपना _ आचार्य प्रशांत, भगवद् ...</td>\n",
       "    </tr>\n",
       "    <tr>\n",
       "      <td>2</td>\n",
       "      <td>x7n8nt2</td>\n",
       "      <td>जब अपनी हालत से निराश होने लगें _ आचार्य प्रशा...</td>\n",
       "    </tr>\n",
       "    <tr>\n",
       "      <td>3</td>\n",
       "      <td>x7n8nt6</td>\n",
       "      <td>ध्यान की सबसे उत्तम विधि क्या _ आचार्य प्रशांत...</td>\n",
       "    </tr>\n",
       "    <tr>\n",
       "      <td>4</td>\n",
       "      <td>x7nb4oe</td>\n",
       "      <td>समलैंगिकता पर _ आचार्य प्रशांत (2018)</td>\n",
       "    </tr>\n",
       "  </tbody>\n",
       "</table>\n",
       "</div>"
      ],
      "text/plain": [
       "        id                                          thumbnail\n",
       "0  x7n8nul  रिश्तों में किसका कितना महत्व _ आचार्य प्रशांत...\n",
       "1  x7n8nt0  किसको मान रहे हो अपना _ आचार्य प्रशांत, भगवद् ...\n",
       "2  x7n8nt2  जब अपनी हालत से निराश होने लगें _ आचार्य प्रशा...\n",
       "3  x7n8nt6  ध्यान की सबसे उत्तम विधि क्या _ आचार्य प्रशांत...\n",
       "4  x7nb4oe              समलैंगिकता पर _ आचार्य प्रशांत (2018)"
      ]
     },
     "execution_count": 26,
     "metadata": {},
     "output_type": "execute_result"
    }
   ],
   "source": [
    "file.head()"
   ]
  },
  {
   "cell_type": "code",
   "execution_count": 2,
   "metadata": {},
   "outputs": [
    {
     "ename": "NameError",
     "evalue": "name 'file' is not defined",
     "output_type": "error",
     "traceback": [
      "\u001b[1;31m---------------------------------------------------------------------------\u001b[0m",
      "\u001b[1;31mNameError\u001b[0m                                 Traceback (most recent call last)",
      "\u001b[1;32m<ipython-input-2-936ec31eae78>\u001b[0m in \u001b[0;36m<module>\u001b[1;34m\u001b[0m\n\u001b[0;32m      1\u001b[0m \u001b[0mcnt\u001b[0m \u001b[1;33m=\u001b[0m \u001b[1;36m0\u001b[0m\u001b[1;33m\u001b[0m\u001b[1;33m\u001b[0m\u001b[0m\n\u001b[0;32m      2\u001b[0m \u001b[1;33m\u001b[0m\u001b[0m\n\u001b[1;32m----> 3\u001b[1;33m \u001b[1;32mfor\u001b[0m \u001b[0mi\u001b[0m\u001b[1;33m,\u001b[0m \u001b[0mrow\u001b[0m \u001b[1;32min\u001b[0m \u001b[0mfile\u001b[0m\u001b[1;33m.\u001b[0m\u001b[0miterrows\u001b[0m\u001b[1;33m(\u001b[0m\u001b[1;33m)\u001b[0m\u001b[1;33m:\u001b[0m\u001b[1;33m\u001b[0m\u001b[1;33m\u001b[0m\u001b[0m\n\u001b[0m\u001b[0;32m      4\u001b[0m     \u001b[1;32mtry\u001b[0m\u001b[1;33m:\u001b[0m\u001b[1;33m\u001b[0m\u001b[1;33m\u001b[0m\u001b[0m\n\u001b[0;32m      5\u001b[0m         \u001b[0mvideo_url\u001b[0m \u001b[1;33m=\u001b[0m \u001b[1;34m\"/video/\"\u001b[0m\u001b[1;33m+\u001b[0m\u001b[0mfile\u001b[0m\u001b[1;33m.\u001b[0m\u001b[0mloc\u001b[0m\u001b[1;33m[\u001b[0m\u001b[0mi\u001b[0m\u001b[1;33m,\u001b[0m\u001b[1;34m\"id\"\u001b[0m\u001b[1;33m]\u001b[0m\u001b[1;33m\u001b[0m\u001b[1;33m\u001b[0m\u001b[0m\n",
      "\u001b[1;31mNameError\u001b[0m: name 'file' is not defined"
     ]
    }
   ],
   "source": [
    "cnt = 0\n",
    "\n",
    "for i, row in file.iterrows():\n",
    "    try:\n",
    "        video_url = \"/video/\"+file.loc[i,\"id\"]\n",
    "        \n",
    "        thumbnail_local_path = r\"D:\\My Folder\\Dailymotion\\thumbnails\\hindi\" + \"\\\\\" + file.loc[i, \"thumbnail\"] + \".jpg\"\n",
    "        print(\"Trying for: \", file.loc[i, \"thumbnail\"])\n",
    "        \n",
    "        img = Image.open(thumbnail_local_path)\n",
    "\n",
    "        width = img.size[0]\n",
    "        height = img.size[1]\n",
    "\n",
    "        response = upload(thumbnail_local_path, tags=DEFAULT_TAG)\n",
    "        dump_response(response)\n",
    "        url, options = cloudinary_url(\n",
    "            response['public_id'],\n",
    "            format=response['format'],\n",
    "            width=width,\n",
    "            height=height,\n",
    "            crop=\"fill\"\n",
    "        )\n",
    "        print(url)\n",
    "        img.close()\n",
    "        #print(video_url)\n",
    "        d.post(video_url, {\"thumbnail_url\": url})\n",
    "        \n",
    "        print(\"Done: \", cnt, \"\\n\")\n",
    "        cnt = cnt + 1\n",
    "        #if cnt%10 == 0:\n",
    "        #    print(\"Done videos:\", cnt)\n",
    "    except Exception as e:\n",
    "        error_message = \"Error:\" + str(e)\n",
    "        print(error_message)\n",
    "    "
   ]
  },
  {
   "cell_type": "code",
   "execution_count": 6,
   "metadata": {},
   "outputs": [
    {
     "data": {
      "text/plain": [
       "{'id': 'x7msqqg',\n",
       " 'title': 'अपने लक्ष्य को कैसे हासिल करें? || आचार्य प्रशांत, युवाओं के संग (2019)',\n",
       " 'url': 'https://www.dailymotion.com/video/x7msqqg',\n",
       " 'thumbnail_url': 'https://s2.dmcdn.net/v/RWiXO1TvgdP0s6z1l',\n",
       " 'created_time': 1571318499}"
      ]
     },
     "execution_count": 6,
     "metadata": {},
     "output_type": "execute_result"
    }
   ],
   "source": [
    "d.get(\"/video/x7msqqg?fields=id,title,url,thumbnail_url,created_time\")"
   ]
  },
  {
   "cell_type": "code",
   "execution_count": 10,
   "metadata": {},
   "outputs": [
    {
     "name": "stdout",
     "output_type": "stream",
     "text": [
      "Done:  1000\n",
      "Done:  2000\n",
      "Results written to excel file\n"
     ]
    }
   ],
   "source": [
    "#Names of all files in a folder\n",
    "\n",
    "import pandas as pd\n",
    "import os\n",
    "\n",
    "res = pd.DataFrame({\"name\": []})\n",
    "\n",
    "input_dir = r'D:\\My Folder\\Dailymotion\\thumbnails\\english'\n",
    "\n",
    "i = 0\n",
    "for file in os.listdir(input_dir):\n",
    "    res.loc[i,\"name\"] = os.path.splitext(file)[0]\n",
    "    \n",
    "    i += 1\n",
    "    \n",
    "    if i%1000 == 0:\n",
    "        print(\"Done: \", i)\n",
    "        \n",
    "out_file = r\"D:\\My Folder\\Dailymotion\\Download_DM\\thumbnail_names.xlsx\"\n",
    "res.to_excel(out_file)\n",
    "print(\"Results written to excel file\")"
   ]
  }
 ],
 "metadata": {
  "kernelspec": {
   "display_name": "Python 3",
   "language": "python",
   "name": "python3"
  },
  "language_info": {
   "codemirror_mode": {
    "name": "ipython",
    "version": 3
   },
   "file_extension": ".py",
   "mimetype": "text/x-python",
   "name": "python",
   "nbconvert_exporter": "python",
   "pygments_lexer": "ipython3",
   "version": "3.7.4"
  }
 },
 "nbformat": 4,
 "nbformat_minor": 2
}
