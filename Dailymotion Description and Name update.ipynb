{
 "cells": [
  {
   "cell_type": "code",
   "execution_count": 12,
   "metadata": {},
   "outputs": [],
   "source": [
    "import os\n",
    "import dailymotion\n",
    "import pandas as pd\n",
    "\n",
    "d = dailymotion.Dailymotion()\n",
    "\n",
    "_API_KEY_HINDI = \"5ed4c3453a96daca3ab2\"\n",
    "_API_SECRET_HINDI = \"803f5a28126ac6f8fc4b7886de986a2e2d356c06\"\n",
    "_USERNAME_HINDI = \"x2bgrnj\"\n",
    "_PASSWORD_HINDI = \"APDailymotion*123#\""
   ]
  },
  {
   "cell_type": "code",
   "execution_count": 13,
   "metadata": {},
   "outputs": [],
   "source": [
    "d.set_grant_type(\n",
    "            \"password\",\n",
    "            api_key=_API_KEY_HINDI,\n",
    "            api_secret=_API_SECRET_HINDI,\n",
    "            scope=[\"manage_videos\"],\n",
    "            info={\"username\": _USERNAME_HINDI, \"password\": _PASSWORD_HINDI},\n",
    "        )"
   ]
  },
  {
   "cell_type": "code",
   "execution_count": 14,
   "metadata": {},
   "outputs": [
    {
     "data": {
      "text/plain": [
       "id             object\n",
       "title          object\n",
       "description    object\n",
       "dtype: object"
      ]
     },
     "execution_count": 14,
     "metadata": {},
     "output_type": "execute_result"
    }
   ],
   "source": [
    "input_file = r\"D:\\My Folder\\Dailymotion\\dm_description_update.xlsx\"\n",
    "file = pd.read_excel(input_file)\n",
    "file.astype('str').dtypes"
   ]
  },
  {
   "cell_type": "code",
   "execution_count": 15,
   "metadata": {},
   "outputs": [
    {
     "data": {
      "text/html": [
       "<div>\n",
       "<style scoped>\n",
       "    .dataframe tbody tr th:only-of-type {\n",
       "        vertical-align: middle;\n",
       "    }\n",
       "\n",
       "    .dataframe tbody tr th {\n",
       "        vertical-align: top;\n",
       "    }\n",
       "\n",
       "    .dataframe thead th {\n",
       "        text-align: right;\n",
       "    }\n",
       "</style>\n",
       "<table border=\"1\" class=\"dataframe\">\n",
       "  <thead>\n",
       "    <tr style=\"text-align: right;\">\n",
       "      <th></th>\n",
       "      <th>id</th>\n",
       "      <th>title</th>\n",
       "      <th>description</th>\n",
       "    </tr>\n",
       "  </thead>\n",
       "  <tbody>\n",
       "    <tr>\n",
       "      <td>0</td>\n",
       "      <td>x7msqqg</td>\n",
       "      <td>अपने लक्ष्य को कैसे हासिल करें? || आचार्य प्रश...</td>\n",
       "      <td>वीडियो जानकारी:\\n\\nसंवाद सत्र\\n१ अप्रैल, २०१९\\...</td>\n",
       "    </tr>\n",
       "    <tr>\n",
       "      <td>1</td>\n",
       "      <td>x7msqqh</td>\n",
       "      <td>आइ.आइ.टी, आइ.आइ.एम के बाद अध्यात्म क्यों? || आ...</td>\n",
       "      <td>वीडियो जानकारी:\\n\\nसंवाद सत्र\\n१० अक्टूबर २०१३...</td>\n",
       "    </tr>\n",
       "    <tr>\n",
       "      <td>2</td>\n",
       "      <td>x7msqqj</td>\n",
       "      <td>क्या सेक्स का कोई विकल्प है जो मन शांत रख सके?...</td>\n",
       "      <td>वीडियो जानकारी:\\n\\nशब्दयोग सत्संग, अद्वैत बोध ...</td>\n",
       "    </tr>\n",
       "    <tr>\n",
       "      <td>3</td>\n",
       "      <td>x7msqqi</td>\n",
       "      <td>डर आता है क्योंकि तुम उसे बुलाते हो || आचार्य ...</td>\n",
       "      <td>वीडियो जानकारी:\\n\\nशब्दयोग सत्संग\\n८ फ़रवरी २०...</td>\n",
       "    </tr>\n",
       "    <tr>\n",
       "      <td>4</td>\n",
       "      <td>x7msqqk</td>\n",
       "      <td>डर हटाने के मात्र दो ही तरीक़े || आचार्य प्रशां...</td>\n",
       "      <td>वीडियो जानकारी:\\n\\nशब्दयोग सत्संग\\n१० जनवरी, २...</td>\n",
       "    </tr>\n",
       "  </tbody>\n",
       "</table>\n",
       "</div>"
      ],
      "text/plain": [
       "        id                                              title  \\\n",
       "0  x7msqqg  अपने लक्ष्य को कैसे हासिल करें? || आचार्य प्रश...   \n",
       "1  x7msqqh  आइ.आइ.टी, आइ.आइ.एम के बाद अध्यात्म क्यों? || आ...   \n",
       "2  x7msqqj  क्या सेक्स का कोई विकल्प है जो मन शांत रख सके?...   \n",
       "3  x7msqqi  डर आता है क्योंकि तुम उसे बुलाते हो || आचार्य ...   \n",
       "4  x7msqqk  डर हटाने के मात्र दो ही तरीक़े || आचार्य प्रशां...   \n",
       "\n",
       "                                         description  \n",
       "0  वीडियो जानकारी:\\n\\nसंवाद सत्र\\n१ अप्रैल, २०१९\\...  \n",
       "1  वीडियो जानकारी:\\n\\nसंवाद सत्र\\n१० अक्टूबर २०१३...  \n",
       "2  वीडियो जानकारी:\\n\\nशब्दयोग सत्संग, अद्वैत बोध ...  \n",
       "3  वीडियो जानकारी:\\n\\nशब्दयोग सत्संग\\n८ फ़रवरी २०...  \n",
       "4  वीडियो जानकारी:\\n\\nशब्दयोग सत्संग\\n१० जनवरी, २...  "
      ]
     },
     "execution_count": 15,
     "metadata": {},
     "output_type": "execute_result"
    }
   ],
   "source": [
    "file.head()"
   ]
  },
  {
   "cell_type": "code",
   "execution_count": null,
   "metadata": {},
   "outputs": [
    {
     "name": "stdout",
     "output_type": "stream",
     "text": [
      "Done videos: 10\n",
      "Done videos: 20\n",
      "Error:can only concatenate str (not \"float\") to str\n",
      "Done videos: 30\n",
      "Done videos: 40\n",
      "Done videos: 50\n",
      "Done videos: 60\n",
      "Error:The request times out, current timeout is = 5\n",
      "Error:Network problem (DNS failure, refused connection...).\n",
      "Done videos: 70\n",
      "Done videos: 80\n",
      "Done videos: 90\n",
      "Error:The request times out, current timeout is = 5\n",
      "Done videos: 100\n",
      "Done videos: 110\n",
      "Done videos: 120\n",
      "Error:can only concatenate str (not \"float\") to str\n",
      "Done videos: 130\n",
      "Done videos: 140\n",
      "Done videos: 150\n",
      "Done videos: 160\n",
      "Done videos: 170\n",
      "Done videos: 180\n",
      "Done videos: 190\n",
      "Done videos: 200\n",
      "Done videos: 210\n",
      "Done videos: 220\n",
      "Done videos: 230\n",
      "Done videos: 240\n",
      "Done videos: 250\n"
     ]
    }
   ],
   "source": [
    "cnt = 0\n",
    "\n",
    "for i, row in file.iterrows():\n",
    "    try:\n",
    "        video_url = \"/video/\"+file.loc[i,\"id\"]\n",
    "        #print(video_url)\n",
    "        d.post(video_url, {\"title\": file.loc[i,\"title\"], \"description\": file.loc[i, \"description\"]})\n",
    "        \n",
    "        cnt = cnt + 1\n",
    "        if cnt%10 == 0:\n",
    "            print(\"Done videos:\", cnt)\n",
    "    except Exception as e:\n",
    "        error_message = \"Error:\" + str(e)\n",
    "        print(error_message)\n",
    "    "
   ]
  },
  {
   "cell_type": "code",
   "execution_count": 59,
   "metadata": {},
   "outputs": [
    {
     "data": {
      "text/html": [
       "<div>\n",
       "<style scoped>\n",
       "    .dataframe tbody tr th:only-of-type {\n",
       "        vertical-align: middle;\n",
       "    }\n",
       "\n",
       "    .dataframe tbody tr th {\n",
       "        vertical-align: top;\n",
       "    }\n",
       "\n",
       "    .dataframe thead th {\n",
       "        text-align: right;\n",
       "    }\n",
       "</style>\n",
       "<table border=\"1\" class=\"dataframe\">\n",
       "  <thead>\n",
       "    <tr style=\"text-align: right;\">\n",
       "      <th></th>\n",
       "      <th>id</th>\n",
       "      <th>title</th>\n",
       "      <th>url</th>\n",
       "      <th>tags</th>\n",
       "    </tr>\n",
       "  </thead>\n",
       "  <tbody>\n",
       "    <tr>\n",
       "      <td>0</td>\n",
       "      <td>x7msqqg</td>\n",
       "      <td>अपने लक्ष्य को कैसे हासिल करें? || आचार्य प्रशांत</td>\n",
       "      <td>https://www.dailymotion.com/video/x7msqqg</td>\n",
       "      <td>lakshya,goals,self improvement,personality,att...</td>\n",
       "    </tr>\n",
       "    <tr>\n",
       "      <td>1</td>\n",
       "      <td>x7msqqh</td>\n",
       "      <td>आइ.आइ.टी, आइ.आइ.एम के बाद अध्यात्म क्यों? || आ...</td>\n",
       "      <td>https://www.dailymotion.com/video/x7msqqh</td>\n",
       "      <td>IIT,IIM,education,sarkari naukri,paisa,ijjat,s...</td>\n",
       "    </tr>\n",
       "    <tr>\n",
       "      <td>2</td>\n",
       "      <td>x7msqqj</td>\n",
       "      <td>क्या सेक्स का कोई विकल्प है जो मन शांत रख सके?...</td>\n",
       "      <td>https://www.dailymotion.com/video/x7msqqj</td>\n",
       "      <td>kam vasna,jeevan,shanti,vichar,man,love,life,a...</td>\n",
       "    </tr>\n",
       "    <tr>\n",
       "      <td>3</td>\n",
       "      <td>x7msqqi</td>\n",
       "      <td>डर आता है क्योंकि तुम उसे बुलाते हो  || आचार्य...</td>\n",
       "      <td>https://www.dailymotion.com/video/x7msqqi</td>\n",
       "      <td>dar,fear,jindagi,motivation,inspiration,fearle...</td>\n",
       "    </tr>\n",
       "    <tr>\n",
       "      <td>4</td>\n",
       "      <td>x7msqqk</td>\n",
       "      <td>डर हटाने के मात्र दो ही तरीक़े || आचार्य प्रशां...</td>\n",
       "      <td>https://www.dailymotion.com/video/x7msqqk</td>\n",
       "      <td>dar,prem,jeevan,adhyatm,personality,attitude,i...</td>\n",
       "    </tr>\n",
       "  </tbody>\n",
       "</table>\n",
       "</div>"
      ],
      "text/plain": [
       "        id                                              title  \\\n",
       "0  x7msqqg  अपने लक्ष्य को कैसे हासिल करें? || आचार्य प्रशांत   \n",
       "1  x7msqqh  आइ.आइ.टी, आइ.आइ.एम के बाद अध्यात्म क्यों? || आ...   \n",
       "2  x7msqqj  क्या सेक्स का कोई विकल्प है जो मन शांत रख सके?...   \n",
       "3  x7msqqi  डर आता है क्योंकि तुम उसे बुलाते हो  || आचार्य...   \n",
       "4  x7msqqk  डर हटाने के मात्र दो ही तरीक़े || आचार्य प्रशां...   \n",
       "\n",
       "                                         url  \\\n",
       "0  https://www.dailymotion.com/video/x7msqqg   \n",
       "1  https://www.dailymotion.com/video/x7msqqh   \n",
       "2  https://www.dailymotion.com/video/x7msqqj   \n",
       "3  https://www.dailymotion.com/video/x7msqqi   \n",
       "4  https://www.dailymotion.com/video/x7msqqk   \n",
       "\n",
       "                                                tags  \n",
       "0  lakshya,goals,self improvement,personality,att...  \n",
       "1  IIT,IIM,education,sarkari naukri,paisa,ijjat,s...  \n",
       "2  kam vasna,jeevan,shanti,vichar,man,love,life,a...  \n",
       "3  dar,fear,jindagi,motivation,inspiration,fearle...  \n",
       "4  dar,prem,jeevan,adhyatm,personality,attitude,i...  "
      ]
     },
     "execution_count": 59,
     "metadata": {},
     "output_type": "execute_result"
    }
   ],
   "source": [
    "result.head()"
   ]
  },
  {
   "cell_type": "code",
   "execution_count": 60,
   "metadata": {},
   "outputs": [],
   "source": [
    "output_file = r\"D:\\My Folder\\Dailymotion\\dailymotion_videos.xlsx\"\n",
    "result.to_excel(output_file)"
   ]
  },
  {
   "cell_type": "code",
   "execution_count": 11,
   "metadata": {},
   "outputs": [
    {
     "data": {
      "text/plain": [
       "{'page': 11,\n",
       " 'limit': 10,\n",
       " 'explicit': False,\n",
       " 'has_more': True,\n",
       " 'list': [{'id': 'x7om0em',\n",
       "   'title': 'मन को कैसे समझाएँ _ आचार्य प्रशांत (2014)',\n",
       "   'url': 'https://www.dailymotion.com/video/x7om0em',\n",
       "   'thumbnail_url': 'https://s1.dmcdn.net/v/RiJ-E1TuJaMBsJ9uf'},\n",
       "  {'id': 'x7om0b8',\n",
       "   'title': 'प्रतिस्पर्धा सही या गलत _ आचार्य प्रशांत (2018)',\n",
       "   'url': 'https://www.dailymotion.com/video/x7om0b8',\n",
       "   'thumbnail_url': 'https://s1.dmcdn.net/v/RiJyK1TuJaKyVbTls'},\n",
       "  {'id': 'x7om0c6',\n",
       "   'title': 'लड़ना तभी सार्थक जब भीतर शान्ति हो _ आचार्य प्रशांत, युवाओं के संग (2013)',\n",
       "   'url': 'https://www.dailymotion.com/video/x7om0c6',\n",
       "   'thumbnail_url': 'https://s2.dmcdn.net/v/RiJys1TuJXLYHX1Ab'},\n",
       "  {'id': 'x7olzyb',\n",
       "   'title': 'भविष्य के सपने _ आचार्य प्रशांत, युवाओं के संग (2014)',\n",
       "   'url': 'https://www.dailymotion.com/video/x7olzyb',\n",
       "   'thumbnail_url': 'https://s2.dmcdn.net/v/RiJr31TuJP0k9AtS8'},\n",
       "  {'id': 'x7olzx3',\n",
       "   'title': 'भजने का महत्व क्या साक्षित्व अभ्यास है _ आचार्य प्रशांत (2016)',\n",
       "   'url': 'https://www.dailymotion.com/video/x7olzx3',\n",
       "   'thumbnail_url': 'https://s2.dmcdn.net/v/RiJqN1TuJOCXjfSfw'},\n",
       "  {'id': 'x7olzuh',\n",
       "   'title': 'भक्ति और ज्ञान, दोनों की मंज़िल एक है _ आचार्य प्रशांत, बाबा बुल्लेशाह और आदि शंकराचार्य पर (2019)',\n",
       "   'url': 'https://www.dailymotion.com/video/x7olzuh',\n",
       "   'thumbnail_url': 'https://s2.dmcdn.net/v/RiJov1TuJMBncRjAL'},\n",
       "  {'id': 'x7olztv',\n",
       "   'title': 'युद्ध का अर्थ क्या _ आचार्य प्रशांत (2018)',\n",
       "   'url': 'https://www.dailymotion.com/video/x7olztv',\n",
       "   'thumbnail_url': 'https://s1.dmcdn.net/v/RiJoZ1TuJKdax7fh4'},\n",
       "  {'id': 'x7olzqp',\n",
       "   'title': 'बेशक़ और बेशर्त जियो _ आचार्य प्रशांत (2017)',\n",
       "   'url': 'https://www.dailymotion.com/video/x7olzqp',\n",
       "   'thumbnail_url': 'https://s2.dmcdn.net/v/RiJmn1TuJJDRR586k'},\n",
       "  {'id': 'x7olzqs',\n",
       "   'title': 'मोटा हाथी हारेगा, महीन चींटी जीतेगी _ आचार्य प्रशांत, गुरु कबीर पर (2018)',\n",
       "   'url': 'https://www.dailymotion.com/video/x7olzqs',\n",
       "   'thumbnail_url': 'https://s2.dmcdn.net/v/RiJmq1TuJKDz7vtpS'},\n",
       "  {'id': 'x7olzo1',\n",
       "   'title': 'बुल्ले नूं समझावण आइंयां _ आचार्य प्रशांत, संत बुल्लेशाह पर (2017)',\n",
       "   'url': 'https://www.dailymotion.com/video/x7olzo1',\n",
       "   'thumbnail_url': 'https://s2.dmcdn.net/v/RiJlH1TuJIktTvDa5'}]}"
      ]
     },
     "execution_count": 11,
     "metadata": {},
     "output_type": "execute_result"
    }
   ],
   "source": [
    "api_call = '/me/videos?fields=id,title,url,thumbnail_url&limit=10&page=' + str(11)\n",
    "r = d.get(api_call)\n",
    "r"
   ]
  },
  {
   "cell_type": "code",
   "execution_count": null,
   "metadata": {},
   "outputs": [],
   "source": []
  }
 ],
 "metadata": {
  "kernelspec": {
   "display_name": "Python 3",
   "language": "python",
   "name": "python3"
  },
  "language_info": {
   "codemirror_mode": {
    "name": "ipython",
    "version": 3
   },
   "file_extension": ".py",
   "mimetype": "text/x-python",
   "name": "python",
   "nbconvert_exporter": "python",
   "pygments_lexer": "ipython3",
   "version": "3.7.4"
  }
 },
 "nbformat": 4,
 "nbformat_minor": 2
}
